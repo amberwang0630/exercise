{
 "cells": [
  {
   "cell_type": "markdown",
   "metadata": {},
   "source": [
    "1 Give a prompt to the user asking if they wish to create a new Savings Account or access an existent one\n",
    "\n",
    "2 If the user would like to create a new account, accept their name and initial deposit, and create a 5 digit random number and make it as the account number of their new Savings Account\n",
    "\n",
    "3 If they are accessing as an existent account, accept their name and account number to validate the user. and give them options to withdraw, deposit or display their available balance\n",
    "\n",
    "Attributes: accounts\n",
    "\n",
    "Methods: create a new account (self, name, initialdeposit), authenticate existing account (self, name, accountnumber), withdraw(self, withdrawamount), deposit(self,depositamount), display balance(self)"
   ]
  },
  {
   "cell_type": "code",
   "execution_count": 1,
   "metadata": {
    "ExecuteTime": {
     "end_time": "2021-01-04T01:21:13.507292Z",
     "start_time": "2021-01-04T01:21:13.504751Z"
    }
   },
   "outputs": [],
   "source": [
    "from abc import ABCMeta, abstractmethod\n",
    "from random import randint"
   ]
  },
  {
   "cell_type": "code",
   "execution_count": 2,
   "metadata": {
    "ExecuteTime": {
     "end_time": "2021-01-04T01:21:13.512110Z",
     "start_time": "2021-01-04T01:21:13.508737Z"
    }
   },
   "outputs": [],
   "source": [
    "class Acount(metaclass = ABCMeta):\n",
    "    @abstractmethod\n",
    "    def createAccount():\n",
    "        return 0\n",
    "    @abstractmethod\n",
    "    def authenticate():\n",
    "        return 0\n",
    "    @abstractmethod\n",
    "    def withdraw():\n",
    "        return 0\n",
    "    @abstractmethod\n",
    "    def deposit():\n",
    "        return 0\n",
    "    @abstractmethod\n",
    "    def displayBalance():\n",
    "        return 0\n",
    "    "
   ]
  },
  {
   "cell_type": "code",
   "execution_count": 3,
   "metadata": {
    "ExecuteTime": {
     "end_time": "2021-01-04T01:21:13.519989Z",
     "start_time": "2021-01-04T01:21:13.513611Z"
    }
   },
   "outputs": [],
   "source": [
    "class SavingsAccount:\n",
    "    def __init__(self):\n",
    "        self.savingsAccounts = {}\n",
    "        # a dictionary with account numbers as keys and names & balance as values. [key][0] => name; [key][1] => balance\n",
    "    def createAccount(self,name,initialDeposit):\n",
    "        self.accountNumber = randint(10000, 99999)\n",
    "        self.savingsAccounts[self.accountNumber] = [name,initialDeposit]\n",
    "        print(\"Account Creation Was Successful. Your Account Number is: \",self.accountNumber)\n",
    "        \n",
    "    def authenticate(self,name,accountNumber):\n",
    "        if accountNumber in self.savingsAccounts.keys():\n",
    "            if self.savingsAccounts[accountNumber][0] == name:\n",
    "                print(\"Authentication Successful\")\n",
    "                self.accountNumber = accountNumber\n",
    "                return True\n",
    "            else:\n",
    "                print(\"Wrong Name\")\n",
    "                return False\n",
    "        else:\n",
    "            print(\"Account Number Does Not Exist\")\n",
    "            return False\n",
    "            \n",
    "    def withdraw(self,withdrawalAmount):\n",
    "        if withdrawalAmount > self.savingsAccounts[accountNumber][1]:\n",
    "            print(\"Insufficient Balance\")\n",
    "        else:\n",
    "            self.savingsAccounts[accountNumber][1] -= withdrawalAmount\n",
    "            print(\"Withdrawal Was Successful.\")\n",
    "            self.displayBalance()\n",
    "            \n",
    "    def deposit(self,depositAmount):\n",
    "        self.savingsAccounts[accountNumber][1] += depositAmount\n",
    "        print(\"Deposit Was Successful.\")\n",
    "        self.displayBalance()\n",
    "        \n",
    "    def displayBalance(self):\n",
    "        print(\"Available Balance: \",self.savingsAccounts[self.accountNumber][1])"
   ]
  },
  {
   "cell_type": "code",
   "execution_count": null,
   "metadata": {
    "ExecuteTime": {
     "start_time": "2021-01-04T01:21:13.494Z"
    }
   },
   "outputs": [
    {
     "name": "stdout",
     "output_type": "stream",
     "text": [
      "Enter 1 to create a new account\n",
      "Enter 2 to access an existing account\n",
      "Ebrer 3 to exit\n",
      "1\n",
      "Enter your name:\n",
      "Amber\n",
      "Enter the initial deposit:\n",
      "10\n",
      "Account Creation Was Successful. Your Account Number is:  72909\n",
      "Enter 1 to create a new account\n",
      "Enter 2 to access an existing account\n",
      "Ebrer 3 to exit\n",
      "2\n",
      "Enter your name:\n",
      "Amber\n",
      "Enter your account number\n",
      "72100\n",
      "Account Number Does Not Exist\n",
      "Enter 1 to create a new account\n",
      "Enter 2 to access an existing account\n",
      "Ebrer 3 to exit\n",
      "2\n",
      "Enter your name:\n",
      "Amber\n",
      "Enter your account number\n",
      "72909\n",
      "Authentication Successful\n",
      "Enter 1 to withdraw\n",
      "Enter 2 to deposit\n",
      "Enter 3 to display available balance\n",
      "Enter 4 to go back to the previous menu\n",
      "1\n",
      "Enter a withdrawal amount\n",
      "15\n",
      "Insufficient Balance\n",
      "Enter 1 to withdraw\n",
      "Enter 2 to deposit\n",
      "Enter 3 to display available balance\n",
      "Enter 4 to go back to the previous menu\n",
      "1\n",
      "Enter a withdrawal amount\n",
      "5\n",
      "Withdrawal Was Successful.\n",
      "Available Balance:  5\n",
      "Enter 1 to withdraw\n",
      "Enter 2 to deposit\n",
      "Enter 3 to display available balance\n",
      "Enter 4 to go back to the previous menu\n",
      "2\n",
      "Enter an amount to be deposited\n",
      "100\n",
      "Deposit Was Successful.\n",
      "Available Balance:  105\n",
      "Enter 1 to withdraw\n",
      "Enter 2 to deposit\n",
      "Enter 3 to display available balance\n",
      "Enter 4 to go back to the previous menu\n",
      "3\n",
      "Available Balance:  105\n",
      "Enter 1 to withdraw\n",
      "Enter 2 to deposit\n",
      "Enter 3 to display available balance\n",
      "Enter 4 to go back to the previous menu\n",
      "4\n",
      "Enter 1 to create a new account\n",
      "Enter 2 to access an existing account\n",
      "Ebrer 3 to exit\n",
      "3\n",
      "Enter 1 to create a new account\n",
      "Enter 2 to access an existing account\n",
      "Ebrer 3 to exit\n"
     ]
    }
   ],
   "source": [
    "savingsAccount = SavingsAccount()\n",
    "\n",
    "while True:\n",
    "    print(\"Enter 1 to create a new account\")\n",
    "    print(\"Enter 2 to access an existing account\")\n",
    "    print(\"Enrer 3 to exit\")\n",
    "    userChoice = int(input())\n",
    "    if userChoice is 1:\n",
    "        print(\"Enter your name:\")\n",
    "        name = input()\n",
    "        print(\"Enter the initial deposit:\")\n",
    "        deposit = int(input())\n",
    "        savingsAccount.createAccount(name,deposit)\n",
    "    elif userChoice is 2:\n",
    "        print(\"Enter your name:\")\n",
    "        name = input()\n",
    "        print(\"Enter your account number\")\n",
    "        accountNumber = int(input())\n",
    "        authenticationStatus = savingsAccount.authenticate(name,accountNumber)\n",
    "        if authenticationStatus is True:\n",
    "            while True:\n",
    "                print(\"Enter 1 to withdraw\")\n",
    "                print(\"Enter 2 to deposit\")\n",
    "                print(\"Enter 3 to display available balance\")\n",
    "                print(\"Enter 4 to go back to the previous menu\")\n",
    "                userChoice = int(input())\n",
    "                if userChoice is 1:\n",
    "                    print(\"Enter a withdrawal amount\")\n",
    "                    withdrawalAmount = int(input())\n",
    "                    savingsAccount.withdraw(withdrawalAmount)\n",
    "                elif userChoice is 2:\n",
    "                    print(\"Enter an amount to be deposited\")\n",
    "                    depositAmount = int(input())\n",
    "                    savingsAccount.deposit(depositAmount)\n",
    "                elif userChoice is 3:\n",
    "                    savingsAccount.displayBalance()\n",
    "                elif userChoice is 4:\n",
    "                    break\n",
    "    elif userChoice is 3:\n",
    "        quit()\n",
    "                \n",
    "        \n",
    "    "
   ]
  },
  {
   "cell_type": "code",
   "execution_count": null,
   "metadata": {},
   "outputs": [],
   "source": []
  }
 ],
 "metadata": {
  "kernelspec": {
   "display_name": "Python 3",
   "language": "python",
   "name": "python3"
  },
  "language_info": {
   "codemirror_mode": {
    "name": "ipython",
    "version": 3
   },
   "file_extension": ".py",
   "mimetype": "text/x-python",
   "name": "python",
   "nbconvert_exporter": "python",
   "pygments_lexer": "ipython3",
   "version": "3.6.9"
  }
 },
 "nbformat": 4,
 "nbformat_minor": 4
}
